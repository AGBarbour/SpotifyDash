{
 "cells": [
  {
   "cell_type": "code",
   "execution_count": 161,
   "metadata": {},
   "outputs": [],
   "source": [
    "import requests\n",
    "import json"
   ]
  },
  {
   "cell_type": "code",
   "execution_count": 162,
   "metadata": {},
   "outputs": [],
   "source": [
    "access_token = \"BQCJwmDfRai_YoYlN6yQzyerseUDizhfqZLcGM-PMiDb9SkndXmGFFwm0ExDbi4LaoeKsl8hgF_MNHEk4dyXGr1CTIDe7AwD4sbqAFaOGvI0_3NWh29bylHKOyy70ty-iahgj5Hb9ac1UNFtBgWDn2GBLsmBLveMFyeDajLp-daOH-0pqliCNg2vo1jTOadJnx8nTBwZAgdDT4_GwgnZR5lBurFySeAe2qlCVXB7Z0pD3gRGMBTH07S5DCX30zX0lEbYYKWKJI3bTFCF7wc\""
   ]
  },
  {
   "cell_type": "code",
   "execution_count": 207,
   "metadata": {},
   "outputs": [],
   "source": [
    "def artist_search(time_range, access_token):\n",
    "    \n",
    "    artists = []\n",
    "    \n",
    "    #   Spotify API endpoint which returns users top artist for the specified time range\n",
    "    endpoint = f\"https://api.spotify.com/v1/me/top/artists?time_range={time_range}_term&limit=50\"\n",
    "    headers = {\"Authorization\": f\"Bearer {access_token}\"}\n",
    "\n",
    "    response = requests.get(endpoint, headers=headers).json()\n",
    "    \n",
    "    items = response[\"items\"]\n",
    "\n",
    "    for item in items:\n",
    "\n",
    "        genres = item[\"genres\"]\n",
    "        artist = item[\"name\"]\n",
    "        images = item[\"images\"]\n",
    "        artist_id = item[\"id\"]\n",
    "        popularity = item[\"popularity\"]\n",
    "        artist_url = item[\"external_urls\"][\"spotify\"]\n",
    "        followers = item[\"followers\"][\"total\"]\n",
    "\n",
    "        artists.append({\n",
    "            \"genres\": genres,\n",
    "            \"artist\": artist,\n",
    "            \"id\": artist_id,\n",
    "            \"images\": images,\n",
    "            \"popularity\": popularity,\n",
    "            \"artist_url\": artist_url,\n",
    "            \"followers\": followers\n",
    "        })\n",
    "\n",
    "    return artists"
   ]
  },
  {
   "cell_type": "code",
   "execution_count": 220,
   "metadata": {},
   "outputs": [],
   "source": [
    "def track_search(time_range, access_token):\n",
    "    \n",
    "    tracks = []\n",
    "\n",
    "    #   Spotify API endpoint which returns users top tracks for the specified time range\n",
    "    endpoint = f\"https://api.spotify.com/v1/me/top/tracks?time_range={time_range}_term&limit=50\"\n",
    "    headers = {\"Authorization\": f\"Bearer {access_token}\"}\n",
    "\n",
    "    response = requests.get(endpoint, headers=headers).json()\n",
    "\n",
    "    items = response[\"items\"]\n",
    "\n",
    "    for item in items:\n",
    "\n",
    "        song = item[\"name\"]\n",
    "        artists = item[\"artists\"][0][\"name\"]\n",
    "        duration_ms = item[\"duration_ms\"]\n",
    "        song_id = item[\"id\"]\n",
    "        popularity = item[\"popularity\"]\n",
    "        preview_url = item[\"preview_url\"]\n",
    "        web_player_url = item[\"external_urls\"][\"spotify\"]\n",
    "\n",
    "        tracks.append({\n",
    "            \"song\": song,\n",
    "            \"artists\": artists,\n",
    "            \"id\": song_id,\n",
    "            \"duration_ms\": duration_ms,\n",
    "            \"popularity\": popularity,\n",
    "            \"preview_url\": preview_url,\n",
    "            \"web_player_url\": web_player_url\n",
    "\n",
    "        })\n",
    "        \n",
    "    return tracks"
   ]
  },
  {
   "cell_type": "code",
   "execution_count": null,
   "metadata": {},
   "outputs": [],
   "source": []
  }
 ],
 "metadata": {
  "kernelspec": {
   "display_name": "Python [conda env:Anaconda3]",
   "language": "python",
   "name": "conda-env-Anaconda3-py"
  },
  "language_info": {
   "codemirror_mode": {
    "name": "ipython",
    "version": 3
   },
   "file_extension": ".py",
   "mimetype": "text/x-python",
   "name": "python",
   "nbconvert_exporter": "python",
   "pygments_lexer": "ipython3",
   "version": "3.6.4"
  }
 },
 "nbformat": 4,
 "nbformat_minor": 2
}
